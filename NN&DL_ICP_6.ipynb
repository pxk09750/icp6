{
  "nbformat": 4,
  "nbformat_minor": 0,
  "metadata": {
    "colab": {
      "provenance": [],
      "mount_file_id": "1eU9VXncb2wBdMFNjOnOjqgKtQsTn83Ik",
      "authorship_tag": "ABX9TyPwer6CIHBNIV9NWAyFU8xP",
      "include_colab_link": true
    },
    "kernelspec": {
      "name": "python3",
      "display_name": "Python 3"
    },
    "language_info": {
      "name": "python"
    }
  },
  "cells": [
    {
      "cell_type": "markdown",
      "metadata": {
        "id": "view-in-github",
        "colab_type": "text"
      },
      "source": [
        "<a href=\"https://colab.research.google.com/github/AKHILACHINTHALA/NN-DL_ICP_6/blob/main/NN%26DL_ICP_6.ipynb\" target=\"_parent\"><img src=\"https://colab.research.google.com/assets/colab-badge.svg\" alt=\"Open In Colab\"/></a>"
      ]
    },
    {
      "cell_type": "code",
      "execution_count": 1,
      "metadata": {
        "colab": {
          "base_uri": "https://localhost:8080/"
        },
        "id": "No3XcWUdJfgG",
        "outputId": "cbdacaf3-4a68-4c87-c57a-65da0142d734"
      },
      "outputs": [
        {
          "output_type": "stream",
          "name": "stdout",
          "text": [
            "Mounted at /content/gdrive\n"
          ]
        }
      ],
      "source": [
        "# Predicting the diabetes disease\n",
        "\n",
        "from google.colab import drive\n",
        "drive.mount('/content/gdrive')"
      ]
    },
    {
      "cell_type": "code",
      "source": [
        "path_to_csv = '/content/gdrive/My Drive/diabetes.csv'"
      ],
      "metadata": {
        "id": "xAcejeS6JiQG"
      },
      "execution_count": 5,
      "outputs": []
    },
    {
      "cell_type": "code",
      "source": [
        "import keras\n",
        "import pandas\n",
        "from keras.models import Sequential\n",
        "from keras.layers import Dense, Activation\n",
        "\n",
        "# load dataset\n",
        "from sklearn.model_selection import train_test_split\n",
        "import pandas as pd\n",
        "import numpy as np\n",
        "\n",
        "dataset = pd.read_csv(path_to_csv, header=None).values\n",
        "\n",
        "X_train, X_test, Y_train, Y_test = train_test_split(dataset[:,0:8], dataset[:,8],\n",
        "                                                    test_size=0.25, random_state=87)\n",
        "np.random.seed(155)\n",
        "my_first_nn = Sequential() # create model\n",
        "my_first_nn.add(Dense(20, input_dim=8, activation='relu')) # hidden layer\n",
        "my_first_nn.add(Dense(1, activation='sigmoid')) # output layer\n",
        "my_first_nn.compile(loss='binary_crossentropy', optimizer='adam', metrics=['acc'])\n",
        "my_first_nn_fitted = my_first_nn.fit(X_train, Y_train, epochs=100,\n",
        "                                     initial_epoch=0)\n",
        "print(my_first_nn.summary())\n",
        "print(my_first_nn.evaluate(X_test, Y_test))"
      ],
      "metadata": {
        "colab": {
          "base_uri": "https://localhost:8080/"
        },
        "id": "lT2euzdFJm9b",
        "outputId": "1e20de38-04f5-4670-eeed-914640d3f2c0"
      },
      "execution_count": 6,
      "outputs": [
        {
          "output_type": "stream",
          "name": "stdout",
          "text": [
            "Epoch 1/100\n",
            "18/18 [==============================] - 1s 2ms/step - loss: 40.1249 - acc: 0.3212\n",
            "Epoch 2/100\n",
            "18/18 [==============================] - 0s 2ms/step - loss: 27.9658 - acc: 0.3767\n",
            "Epoch 3/100\n",
            "18/18 [==============================] - 0s 2ms/step - loss: 21.0645 - acc: 0.4566\n",
            "Epoch 4/100\n",
            "18/18 [==============================] - 0s 2ms/step - loss: 15.5570 - acc: 0.4878\n",
            "Epoch 5/100\n",
            "18/18 [==============================] - 0s 2ms/step - loss: 10.8631 - acc: 0.5451\n",
            "Epoch 6/100\n",
            "18/18 [==============================] - 0s 2ms/step - loss: 8.7296 - acc: 0.6111\n",
            "Epoch 7/100\n",
            "18/18 [==============================] - 0s 2ms/step - loss: 7.2427 - acc: 0.6302\n",
            "Epoch 8/100\n",
            "18/18 [==============================] - 0s 3ms/step - loss: 5.6268 - acc: 0.6198\n",
            "Epoch 9/100\n",
            "18/18 [==============================] - 0s 2ms/step - loss: 4.0222 - acc: 0.6128\n",
            "Epoch 10/100\n",
            "18/18 [==============================] - 0s 2ms/step - loss: 2.4279 - acc: 0.5556\n",
            "Epoch 11/100\n",
            "18/18 [==============================] - 0s 2ms/step - loss: 1.7728 - acc: 0.4757\n",
            "Epoch 12/100\n",
            "18/18 [==============================] - 0s 2ms/step - loss: 1.6425 - acc: 0.4826\n",
            "Epoch 13/100\n",
            "18/18 [==============================] - 0s 2ms/step - loss: 1.4758 - acc: 0.5000\n",
            "Epoch 14/100\n",
            "18/18 [==============================] - 0s 2ms/step - loss: 1.3433 - acc: 0.5243\n",
            "Epoch 15/100\n",
            "18/18 [==============================] - 0s 2ms/step - loss: 1.2087 - acc: 0.5486\n",
            "Epoch 16/100\n",
            "18/18 [==============================] - 0s 2ms/step - loss: 1.1851 - acc: 0.5417\n",
            "Epoch 17/100\n",
            "18/18 [==============================] - 0s 2ms/step - loss: 1.0269 - acc: 0.5278\n",
            "Epoch 18/100\n",
            "18/18 [==============================] - 0s 2ms/step - loss: 0.9482 - acc: 0.5955\n",
            "Epoch 19/100\n",
            "18/18 [==============================] - 0s 2ms/step - loss: 0.8957 - acc: 0.5625\n",
            "Epoch 20/100\n",
            "18/18 [==============================] - 0s 2ms/step - loss: 0.8273 - acc: 0.6111\n",
            "Epoch 21/100\n",
            "18/18 [==============================] - 0s 2ms/step - loss: 0.7857 - acc: 0.6024\n",
            "Epoch 22/100\n",
            "18/18 [==============================] - 0s 2ms/step - loss: 0.7964 - acc: 0.6059\n",
            "Epoch 23/100\n",
            "18/18 [==============================] - 0s 2ms/step - loss: 0.7298 - acc: 0.6632\n",
            "Epoch 24/100\n",
            "18/18 [==============================] - 0s 2ms/step - loss: 0.6911 - acc: 0.6319\n",
            "Epoch 25/100\n",
            "18/18 [==============================] - 0s 2ms/step - loss: 0.6804 - acc: 0.6458\n",
            "Epoch 26/100\n",
            "18/18 [==============================] - 0s 2ms/step - loss: 0.6575 - acc: 0.6649\n",
            "Epoch 27/100\n",
            "18/18 [==============================] - 0s 2ms/step - loss: 0.6581 - acc: 0.6667\n",
            "Epoch 28/100\n",
            "18/18 [==============================] - 0s 2ms/step - loss: 0.6519 - acc: 0.6753\n",
            "Epoch 29/100\n",
            "18/18 [==============================] - 0s 2ms/step - loss: 0.6584 - acc: 0.6545\n",
            "Epoch 30/100\n",
            "18/18 [==============================] - 0s 2ms/step - loss: 0.6295 - acc: 0.6858\n",
            "Epoch 31/100\n",
            "18/18 [==============================] - 0s 2ms/step - loss: 0.6268 - acc: 0.6892\n",
            "Epoch 32/100\n",
            "18/18 [==============================] - 0s 2ms/step - loss: 0.6208 - acc: 0.6823\n",
            "Epoch 33/100\n",
            "18/18 [==============================] - 0s 2ms/step - loss: 0.6199 - acc: 0.6910\n",
            "Epoch 34/100\n",
            "18/18 [==============================] - 0s 2ms/step - loss: 0.6102 - acc: 0.6927\n",
            "Epoch 35/100\n",
            "18/18 [==============================] - 0s 2ms/step - loss: 0.6264 - acc: 0.6875\n",
            "Epoch 36/100\n",
            "18/18 [==============================] - 0s 2ms/step - loss: 0.6191 - acc: 0.6615\n",
            "Epoch 37/100\n",
            "18/18 [==============================] - 0s 2ms/step - loss: 0.6224 - acc: 0.6823\n",
            "Epoch 38/100\n",
            "18/18 [==============================] - 0s 2ms/step - loss: 0.6385 - acc: 0.6753\n",
            "Epoch 39/100\n",
            "18/18 [==============================] - 0s 2ms/step - loss: 0.6029 - acc: 0.6944\n",
            "Epoch 40/100\n",
            "18/18 [==============================] - 0s 2ms/step - loss: 0.6057 - acc: 0.6927\n",
            "Epoch 41/100\n",
            "18/18 [==============================] - 0s 2ms/step - loss: 0.5981 - acc: 0.6997\n",
            "Epoch 42/100\n",
            "18/18 [==============================] - 0s 2ms/step - loss: 0.6233 - acc: 0.6875\n",
            "Epoch 43/100\n",
            "18/18 [==============================] - 0s 2ms/step - loss: 0.6018 - acc: 0.6858\n",
            "Epoch 44/100\n",
            "18/18 [==============================] - 0s 2ms/step - loss: 0.6169 - acc: 0.6806\n",
            "Epoch 45/100\n",
            "18/18 [==============================] - 0s 2ms/step - loss: 0.5983 - acc: 0.7101\n",
            "Epoch 46/100\n",
            "18/18 [==============================] - 0s 2ms/step - loss: 0.6097 - acc: 0.6979\n",
            "Epoch 47/100\n",
            "18/18 [==============================] - 0s 2ms/step - loss: 0.6099 - acc: 0.6997\n",
            "Epoch 48/100\n",
            "18/18 [==============================] - 0s 2ms/step - loss: 0.6203 - acc: 0.6910\n",
            "Epoch 49/100\n",
            "18/18 [==============================] - 0s 2ms/step - loss: 0.5870 - acc: 0.6927\n",
            "Epoch 50/100\n",
            "18/18 [==============================] - 0s 2ms/step - loss: 0.5969 - acc: 0.6875\n",
            "Epoch 51/100\n",
            "18/18 [==============================] - 0s 2ms/step - loss: 0.6123 - acc: 0.6823\n",
            "Epoch 52/100\n",
            "18/18 [==============================] - 0s 2ms/step - loss: 0.5969 - acc: 0.6962\n",
            "Epoch 53/100\n",
            "18/18 [==============================] - 0s 2ms/step - loss: 0.5942 - acc: 0.6997\n",
            "Epoch 54/100\n",
            "18/18 [==============================] - 0s 2ms/step - loss: 0.5820 - acc: 0.7049\n",
            "Epoch 55/100\n",
            "18/18 [==============================] - 0s 2ms/step - loss: 0.5736 - acc: 0.7049\n",
            "Epoch 56/100\n",
            "18/18 [==============================] - 0s 2ms/step - loss: 0.5784 - acc: 0.7049\n",
            "Epoch 57/100\n",
            "18/18 [==============================] - 0s 2ms/step - loss: 0.5962 - acc: 0.6997\n",
            "Epoch 58/100\n",
            "18/18 [==============================] - 0s 2ms/step - loss: 0.5812 - acc: 0.7014\n",
            "Epoch 59/100\n",
            "18/18 [==============================] - 0s 2ms/step - loss: 0.5940 - acc: 0.7135\n",
            "Epoch 60/100\n",
            "18/18 [==============================] - 0s 2ms/step - loss: 0.5864 - acc: 0.7014\n",
            "Epoch 61/100\n",
            "18/18 [==============================] - 0s 2ms/step - loss: 0.5817 - acc: 0.7222\n",
            "Epoch 62/100\n",
            "18/18 [==============================] - 0s 2ms/step - loss: 0.5700 - acc: 0.7170\n",
            "Epoch 63/100\n",
            "18/18 [==============================] - 0s 2ms/step - loss: 0.5793 - acc: 0.7014\n",
            "Epoch 64/100\n",
            "18/18 [==============================] - 0s 2ms/step - loss: 0.5777 - acc: 0.7205\n",
            "Epoch 65/100\n",
            "18/18 [==============================] - 0s 2ms/step - loss: 0.5814 - acc: 0.7205\n",
            "Epoch 66/100\n",
            "18/18 [==============================] - 0s 2ms/step - loss: 0.5927 - acc: 0.7066\n",
            "Epoch 67/100\n",
            "18/18 [==============================] - 0s 2ms/step - loss: 0.5797 - acc: 0.6962\n",
            "Epoch 68/100\n",
            "18/18 [==============================] - 0s 2ms/step - loss: 0.5662 - acc: 0.7101\n",
            "Epoch 69/100\n",
            "18/18 [==============================] - 0s 2ms/step - loss: 0.5674 - acc: 0.7014\n",
            "Epoch 70/100\n",
            "18/18 [==============================] - 0s 2ms/step - loss: 0.5783 - acc: 0.7031\n",
            "Epoch 71/100\n",
            "18/18 [==============================] - 0s 2ms/step - loss: 0.5822 - acc: 0.7014\n",
            "Epoch 72/100\n",
            "18/18 [==============================] - 0s 2ms/step - loss: 0.5718 - acc: 0.7066\n",
            "Epoch 73/100\n",
            "18/18 [==============================] - 0s 2ms/step - loss: 0.5833 - acc: 0.6892\n",
            "Epoch 74/100\n",
            "18/18 [==============================] - 0s 2ms/step - loss: 0.6103 - acc: 0.7083\n",
            "Epoch 75/100\n",
            "18/18 [==============================] - 0s 2ms/step - loss: 0.5676 - acc: 0.7205\n",
            "Epoch 76/100\n",
            "18/18 [==============================] - 0s 2ms/step - loss: 0.5596 - acc: 0.7292\n",
            "Epoch 77/100\n",
            "18/18 [==============================] - 0s 2ms/step - loss: 0.5587 - acc: 0.7170\n",
            "Epoch 78/100\n",
            "18/18 [==============================] - 0s 2ms/step - loss: 0.5818 - acc: 0.7049\n",
            "Epoch 79/100\n",
            "18/18 [==============================] - 0s 2ms/step - loss: 0.5711 - acc: 0.7188\n",
            "Epoch 80/100\n",
            "18/18 [==============================] - 0s 2ms/step - loss: 0.5579 - acc: 0.7135\n",
            "Epoch 81/100\n",
            "18/18 [==============================] - 0s 2ms/step - loss: 0.5612 - acc: 0.7014\n",
            "Epoch 82/100\n",
            "18/18 [==============================] - 0s 2ms/step - loss: 0.5604 - acc: 0.7396\n",
            "Epoch 83/100\n",
            "18/18 [==============================] - 0s 2ms/step - loss: 0.5723 - acc: 0.7083\n",
            "Epoch 84/100\n",
            "18/18 [==============================] - 0s 2ms/step - loss: 0.5603 - acc: 0.6962\n",
            "Epoch 85/100\n",
            "18/18 [==============================] - 0s 2ms/step - loss: 0.5674 - acc: 0.7222\n",
            "Epoch 86/100\n",
            "18/18 [==============================] - 0s 2ms/step - loss: 0.5643 - acc: 0.7240\n",
            "Epoch 87/100\n",
            "18/18 [==============================] - 0s 2ms/step - loss: 0.5723 - acc: 0.7135\n",
            "Epoch 88/100\n",
            "18/18 [==============================] - 0s 2ms/step - loss: 0.5944 - acc: 0.6944\n",
            "Epoch 89/100\n",
            "18/18 [==============================] - 0s 2ms/step - loss: 0.5523 - acc: 0.7309\n",
            "Epoch 90/100\n",
            "18/18 [==============================] - 0s 3ms/step - loss: 0.5503 - acc: 0.7205\n",
            "Epoch 91/100\n",
            "18/18 [==============================] - 0s 3ms/step - loss: 0.5511 - acc: 0.7326\n",
            "Epoch 92/100\n",
            "18/18 [==============================] - 0s 3ms/step - loss: 0.5657 - acc: 0.6979\n",
            "Epoch 93/100\n",
            "18/18 [==============================] - 0s 2ms/step - loss: 0.5478 - acc: 0.7222\n",
            "Epoch 94/100\n",
            "18/18 [==============================] - 0s 2ms/step - loss: 0.6007 - acc: 0.7153\n",
            "Epoch 95/100\n",
            "18/18 [==============================] - 0s 2ms/step - loss: 0.5546 - acc: 0.7222\n",
            "Epoch 96/100\n",
            "18/18 [==============================] - 0s 2ms/step - loss: 0.5671 - acc: 0.7049\n",
            "Epoch 97/100\n",
            "18/18 [==============================] - 0s 2ms/step - loss: 0.5710 - acc: 0.7153\n",
            "Epoch 98/100\n",
            "18/18 [==============================] - 0s 2ms/step - loss: 0.5476 - acc: 0.7257\n",
            "Epoch 99/100\n",
            "18/18 [==============================] - 0s 2ms/step - loss: 0.5518 - acc: 0.7309\n",
            "Epoch 100/100\n",
            "18/18 [==============================] - 0s 2ms/step - loss: 0.5579 - acc: 0.7135\n",
            "Model: \"sequential\"\n",
            "_________________________________________________________________\n",
            " Layer (type)                Output Shape              Param #   \n",
            "=================================================================\n",
            " dense (Dense)               (None, 20)                180       \n",
            "                                                                 \n",
            " dense_1 (Dense)             (None, 1)                 21        \n",
            "                                                                 \n",
            "=================================================================\n",
            "Total params: 201 (804.00 Byte)\n",
            "Trainable params: 201 (804.00 Byte)\n",
            "Non-trainable params: 0 (0.00 Byte)\n",
            "_________________________________________________________________\n",
            "None\n",
            "6/6 [==============================] - 0s 4ms/step - loss: 0.6431 - acc: 0.6458\n",
            "[0.6430759429931641, 0.6458333134651184]\n"
          ]
        }
      ]
    },
    {
      "cell_type": "markdown",
      "source": [
        "# 1. a. Add more Dense layers to the existing code and check how the accuracy changes."
      ],
      "metadata": {
        "id": "GtuiIQ-BJ1BT"
      }
    },
    {
      "cell_type": "code",
      "source": [
        "my_first_nn = Sequential() # create model\n",
        "my_first_nn.add(Dense(20, input_dim=8, activation='relu')) # hidden layer with input\n",
        "my_first_nn.add(Dense(20, activation='relu')) # hidden layer\n",
        "my_first_nn.add(Dense(20, activation='relu')) # hidden layer\n",
        "my_first_nn.add(Dense(20, activation='relu')) # hidden layer\n",
        "my_first_nn.add(Dense(20, activation='relu')) # hidden layer\n",
        "my_first_nn.add(Dense(20, activation='relu')) # hidden layer\n",
        "\n",
        "my_first_nn.add(Dense(1, activation='sigmoid')) # output layer\n",
        "my_first_nn.compile(loss='binary_crossentropy', optimizer='adam',metrics=['acc']) # compilation\n",
        "my_first_nn_fitted = my_first_nn.fit(X_train, Y_train, epochs=100,verbose=0, initial_epoch=0) # Training\n",
        "print(my_first_nn.summary()) #Summary\n",
        "print(my_first_nn.evaluate(X_test, Y_test)) #Evaluating"
      ],
      "metadata": {
        "colab": {
          "base_uri": "https://localhost:8080/"
        },
        "id": "kFtDnBgTJ3Vb",
        "outputId": "b5b7659f-f9bd-43a9-88ef-6f018b1bc30e"
      },
      "execution_count": 7,
      "outputs": [
        {
          "output_type": "stream",
          "name": "stdout",
          "text": [
            "Model: \"sequential_1\"\n",
            "_________________________________________________________________\n",
            " Layer (type)                Output Shape              Param #   \n",
            "=================================================================\n",
            " dense_2 (Dense)             (None, 20)                180       \n",
            "                                                                 \n",
            " dense_3 (Dense)             (None, 20)                420       \n",
            "                                                                 \n",
            " dense_4 (Dense)             (None, 20)                420       \n",
            "                                                                 \n",
            " dense_5 (Dense)             (None, 20)                420       \n",
            "                                                                 \n",
            " dense_6 (Dense)             (None, 20)                420       \n",
            "                                                                 \n",
            " dense_7 (Dense)             (None, 20)                420       \n",
            "                                                                 \n",
            " dense_8 (Dense)             (None, 1)                 21        \n",
            "                                                                 \n",
            "=================================================================\n",
            "Total params: 2301 (8.99 KB)\n",
            "Trainable params: 2301 (8.99 KB)\n",
            "Non-trainable params: 0 (0.00 Byte)\n",
            "_________________________________________________________________\n",
            "None\n",
            "6/6 [==============================] - 1s 4ms/step - loss: 0.5603 - acc: 0.7188\n",
            "[0.5602731704711914, 0.71875]\n"
          ]
        }
      ]
    },
    {
      "cell_type": "markdown",
      "source": [
        "# 2. Change the data source to Breast Cancer dataset * available in the source code folder and make required changes. Report accuracy of the model.\n"
      ],
      "metadata": {
        "id": "ZHUpXhiVJ6u1"
      }
    },
    {
      "cell_type": "code",
      "source": [
        "path_to_csv = '/content/gdrive/My Drive/breastcancer.csv'\n",
        "\n",
        "#Importing packages for creating arrays\n",
        "import numpy as np\n",
        "import pandas as pd\n",
        "\n",
        "#Importing packages to convert Categorical data into Numerical\n",
        "from sklearn.preprocessing import LabelEncoder\n",
        "\n",
        "#Importing packages for splitting data\n",
        "from sklearn.model_selection import train_test_split\n",
        "\n",
        "#Importing packages for keras\n",
        "from keras.models import Sequential\n",
        "from keras.layers import Dense, Activation\n",
        "\n",
        "\n",
        "#Loading the Dataset\n",
        "dataset = pd.read_csv(path_to_csv, header=0)\n",
        "\n"
      ],
      "metadata": {
        "id": "XIGgFBd-KEy9"
      },
      "execution_count": 8,
      "outputs": []
    },
    {
      "cell_type": "markdown",
      "source": [
        "#converting Categorical data into Numerical Using Label Encoding\n"
      ],
      "metadata": {
        "id": "717n4_DcKIef"
      }
    },
    {
      "cell_type": "code",
      "source": [
        "le=LabelEncoder()\n",
        "dataset['diagnosis'] = le.fit_transform(dataset['diagnosis'])\n",
        "\n",
        "\n",
        "dataset.info()"
      ],
      "metadata": {
        "colab": {
          "base_uri": "https://localhost:8080/"
        },
        "id": "Wi0afhhTP94B",
        "outputId": "a2f8f1b4-2af5-42cc-96e5-b1e88ec67a7a"
      },
      "execution_count": 14,
      "outputs": [
        {
          "output_type": "stream",
          "name": "stdout",
          "text": [
            "<class 'pandas.core.frame.DataFrame'>\n",
            "RangeIndex: 569 entries, 0 to 568\n",
            "Data columns (total 33 columns):\n",
            " #   Column                   Non-Null Count  Dtype  \n",
            "---  ------                   --------------  -----  \n",
            " 0   id                       569 non-null    int64  \n",
            " 1   diagnosis                569 non-null    int64  \n",
            " 2   radius_mean              569 non-null    float64\n",
            " 3   texture_mean             569 non-null    float64\n",
            " 4   perimeter_mean           569 non-null    float64\n",
            " 5   area_mean                569 non-null    float64\n",
            " 6   smoothness_mean          569 non-null    float64\n",
            " 7   compactness_mean         569 non-null    float64\n",
            " 8   concavity_mean           569 non-null    float64\n",
            " 9   concave points_mean      569 non-null    float64\n",
            " 10  symmetry_mean            569 non-null    float64\n",
            " 11  fractal_dimension_mean   569 non-null    float64\n",
            " 12  radius_se                569 non-null    float64\n",
            " 13  texture_se               569 non-null    float64\n",
            " 14  perimeter_se             569 non-null    float64\n",
            " 15  area_se                  569 non-null    float64\n",
            " 16  smoothness_se            569 non-null    float64\n",
            " 17  compactness_se           569 non-null    float64\n",
            " 18  concavity_se             569 non-null    float64\n",
            " 19  concave points_se        569 non-null    float64\n",
            " 20  symmetry_se              569 non-null    float64\n",
            " 21  fractal_dimension_se     569 non-null    float64\n",
            " 22  radius_worst             569 non-null    float64\n",
            " 23  texture_worst            569 non-null    float64\n",
            " 24  perimeter_worst          569 non-null    float64\n",
            " 25  area_worst               569 non-null    float64\n",
            " 26  smoothness_worst         569 non-null    float64\n",
            " 27  compactness_worst        569 non-null    float64\n",
            " 28  concavity_worst          569 non-null    float64\n",
            " 29  concave points_worst     569 non-null    float64\n",
            " 30  symmetry_worst           569 non-null    float64\n",
            " 31  fractal_dimension_worst  569 non-null    float64\n",
            " 32  Unnamed: 32              0 non-null      float64\n",
            "dtypes: float64(31), int64(2)\n",
            "memory usage: 146.8 KB\n"
          ]
        }
      ]
    },
    {
      "cell_type": "code",
      "source": [
        "#Splitting data into Feature Matrix & Label Matrix\n",
        "X_train, X_test, Y_train, Y_test = train_test_split(dataset.iloc[:,2:32], dataset.iloc[:,1], test_size=0.25, random_state=87)\n",
        "\n",
        "\n",
        "my_first_nn = Sequential() # create model\n",
        "my_first_nn.add(Dense(20, input_dim=30, activation='relu')) # hidden layer\n",
        "my_first_nn.add(Dense(20, input_dim=30, activation='relu')) # hidden layer\n",
        "my_first_nn.add(Dense(20, input_dim=30, activation='relu')) # hidden layer\n",
        "my_first_nn.add(Dense(1, activation='sigmoid')) # output layer\n",
        "my_first_nn.compile(loss='binary_crossentropy', optimizer='adam',metrics=['acc']) # compilation\n",
        "my_first_nn_fitted = my_first_nn.fit(X_train, Y_train, epochs=100,verbose=0, initial_epoch=0) # Training\n",
        "print(my_first_nn.summary()) #Summary\n",
        "print(my_first_nn.evaluate(X_test, Y_test)) #Evaluating"
      ],
      "metadata": {
        "colab": {
          "base_uri": "https://localhost:8080/"
        },
        "id": "swmJNEWSKVID",
        "outputId": "69b76e15-c201-4189-ae5c-03c9abc55016"
      },
      "execution_count": 15,
      "outputs": [
        {
          "output_type": "stream",
          "name": "stdout",
          "text": [
            "Model: \"sequential_7\"\n",
            "_________________________________________________________________\n",
            " Layer (type)                Output Shape              Param #   \n",
            "=================================================================\n",
            " dense_29 (Dense)            (None, 20)                620       \n",
            "                                                                 \n",
            " dense_30 (Dense)            (None, 20)                420       \n",
            "                                                                 \n",
            " dense_31 (Dense)            (None, 20)                420       \n",
            "                                                                 \n",
            " dense_32 (Dense)            (None, 1)                 21        \n",
            "                                                                 \n",
            "=================================================================\n",
            "Total params: 1481 (5.79 KB)\n",
            "Trainable params: 1481 (5.79 KB)\n",
            "Non-trainable params: 0 (0.00 Byte)\n",
            "_________________________________________________________________\n",
            "None\n",
            "5/5 [==============================] - 0s 3ms/step - loss: 0.2175 - acc: 0.9161\n",
            "[0.21748574078083038, 0.9160839319229126]\n"
          ]
        }
      ]
    },
    {
      "cell_type": "markdown",
      "source": [
        "# 3. Normalize the data before feeding the data to the model and check how the normalization change your accuracy"
      ],
      "metadata": {
        "id": "S2BKqo09KblS"
      }
    },
    {
      "cell_type": "code",
      "source": [
        "#importing packages for Normalization\n",
        "from sklearn.preprocessing import StandardScaler"
      ],
      "metadata": {
        "id": "hwk6Gd06KhXQ"
      },
      "execution_count": 16,
      "outputs": []
    },
    {
      "cell_type": "code",
      "source": [
        "my_first_nn = Sequential() # create model\n",
        "my_first_nn.add(Dense(20, input_dim=30, activation='relu')) # hidden layer\n",
        "my_first_nn.add(Dense(1, activation='sigmoid')) # output layer\n",
        "my_first_nn.compile(loss='binary_crossentropy', optimizer='adam',metrics=['acc']) # compilation\n",
        "\n",
        "sc = StandardScaler() #Create Model\n",
        "X_train = sc.fit_transform(X_train) #Fit to data, then transform it.\n",
        "X_test = sc.transform(X_test) # Perform standardization by centering and scaling\n",
        "\n",
        "my_first_nn_fitted = my_first_nn.fit(X_train, Y_train, epochs=100,verbose=0, initial_epoch=0) # Training\n",
        "print(my_first_nn.summary()) #Summary\n",
        "print(my_first_nn.evaluate(X_test, Y_test)) #Evaluating"
      ],
      "metadata": {
        "colab": {
          "base_uri": "https://localhost:8080/"
        },
        "id": "6prnUtoEKqmi",
        "outputId": "f254f8b1-c4d2-4afa-e3f4-07c3c557b271"
      },
      "execution_count": 17,
      "outputs": [
        {
          "output_type": "stream",
          "name": "stdout",
          "text": [
            "Model: \"sequential_8\"\n",
            "_________________________________________________________________\n",
            " Layer (type)                Output Shape              Param #   \n",
            "=================================================================\n",
            " dense_33 (Dense)            (None, 20)                620       \n",
            "                                                                 \n",
            " dense_34 (Dense)            (None, 1)                 21        \n",
            "                                                                 \n",
            "=================================================================\n",
            "Total params: 641 (2.50 KB)\n",
            "Trainable params: 641 (2.50 KB)\n",
            "Non-trainable params: 0 (0.00 Byte)\n",
            "_________________________________________________________________\n",
            "None\n",
            "5/5 [==============================] - 0s 4ms/step - loss: 0.1191 - acc: 0.9790\n",
            "[0.11908312141895294, 0.9790209531784058]\n"
          ]
        }
      ]
    },
    {
      "cell_type": "markdown",
      "source": [
        "*italicized text*# **QUE 2**"
      ],
      "metadata": {
        "id": "Ay_yp6rFLAED"
      }
    },
    {
      "cell_type": "code",
      "source": [
        "from keras import Sequential\n",
        "from keras.datasets import mnist\n",
        "import numpy as np\n",
        "from keras.layers import Dense\n",
        "from keras.utils import to_categorical\n",
        "\n",
        "import matplotlib.pyplot as plt\n",
        "\n",
        "(train_images,train_labels),(test_images, test_labels) = mnist.load_data()\n",
        "\n",
        "#process the data\n",
        "#1. convert each image of shape 28*28 to 784 dimensional which will be fed to the network as a single feature\n",
        "dimData = np.prod(train_images.shape[1:])\n",
        "print(dimData)\n",
        "train_data = train_images.reshape(train_images.shape[0],dimData)\n",
        "test_data = test_images.reshape(test_images.shape[0],dimData)\n",
        "\n",
        "#convert data to float and scale values between 0 and 1\n",
        "train_data = train_data.astype('float')\n",
        "test_data = test_data.astype('float')\n",
        "#scale data\n",
        "train_data /=255.0\n",
        "test_data /=255.0\n",
        "#change the labels frominteger to one-hot encoding. to_categorical is doing the same thing as LabelEncoder()\n",
        "train_labels_one_hot = to_categorical(train_labels)\n",
        "test_labels_one_hot = to_categorical(test_labels)\n",
        "\n",
        "#creating network\n",
        "model = Sequential()\n",
        "model.add(Dense(512, activation='relu', input_shape=(dimData,)))\n",
        "model.add(Dense(512, activation='relu'))\n",
        "model.add(Dense(10, activation='softmax'))\n"
      ],
      "metadata": {
        "colab": {
          "base_uri": "https://localhost:8080/"
        },
        "id": "UIpUurNBLDGQ",
        "outputId": "c9ddab55-9ce7-4f1f-fdaf-5d8def9a2043"
      },
      "execution_count": 18,
      "outputs": [
        {
          "output_type": "stream",
          "name": "stdout",
          "text": [
            "Downloading data from https://storage.googleapis.com/tensorflow/tf-keras-datasets/mnist.npz\n",
            "11490434/11490434 [==============================] - 0s 0us/step\n",
            "784\n"
          ]
        }
      ]
    },
    {
      "cell_type": "markdown",
      "source": [
        "# 1. Plot the loss and accuracy for both training data and validation data using the history object in the source code."
      ],
      "metadata": {
        "id": "jMUeMKGvLSDc"
      }
    },
    {
      "cell_type": "code",
      "source": [
        "\n",
        "model.compile(optimizer='rmsprop', loss='categorical_crossentropy', metrics=['accuracy'])\n",
        "history = model.fit(train_data, train_labels_one_hot, batch_size=256, epochs=10, verbose=1,\n",
        "                   validation_data=(test_data, test_labels_one_hot))"
      ],
      "metadata": {
        "colab": {
          "base_uri": "https://localhost:8080/"
        },
        "id": "RATOARQxLVha",
        "outputId": "29cf9718-13c7-4b72-e66c-7c6fa4089bc5"
      },
      "execution_count": 19,
      "outputs": [
        {
          "output_type": "stream",
          "name": "stdout",
          "text": [
            "Epoch 1/10\n",
            "235/235 [==============================] - 7s 26ms/step - loss: 0.2892 - accuracy: 0.9118 - val_loss: 0.1584 - val_accuracy: 0.9512\n",
            "Epoch 2/10\n",
            "235/235 [==============================] - 6s 25ms/step - loss: 0.1019 - accuracy: 0.9688 - val_loss: 0.1079 - val_accuracy: 0.9649\n",
            "Epoch 3/10\n",
            "235/235 [==============================] - 5s 23ms/step - loss: 0.0632 - accuracy: 0.9800 - val_loss: 0.0746 - val_accuracy: 0.9748\n",
            "Epoch 4/10\n",
            "235/235 [==============================] - 5s 21ms/step - loss: 0.0437 - accuracy: 0.9861 - val_loss: 0.0624 - val_accuracy: 0.9804\n",
            "Epoch 5/10\n",
            "235/235 [==============================] - 7s 31ms/step - loss: 0.0318 - accuracy: 0.9902 - val_loss: 0.0953 - val_accuracy: 0.9742\n",
            "Epoch 6/10\n",
            "235/235 [==============================] - 5s 21ms/step - loss: 0.0231 - accuracy: 0.9925 - val_loss: 0.0851 - val_accuracy: 0.9758\n",
            "Epoch 7/10\n",
            "235/235 [==============================] - 6s 26ms/step - loss: 0.0171 - accuracy: 0.9945 - val_loss: 0.0912 - val_accuracy: 0.9752\n",
            "Epoch 8/10\n",
            "235/235 [==============================] - 5s 23ms/step - loss: 0.0128 - accuracy: 0.9959 - val_loss: 0.0951 - val_accuracy: 0.9756\n",
            "Epoch 9/10\n",
            "235/235 [==============================] - 5s 21ms/step - loss: 0.0094 - accuracy: 0.9968 - val_loss: 0.0686 - val_accuracy: 0.9827\n",
            "Epoch 10/10\n",
            "235/235 [==============================] - 7s 28ms/step - loss: 0.0073 - accuracy: 0.9977 - val_loss: 0.0700 - val_accuracy: 0.9843\n"
          ]
        }
      ]
    },
    {
      "cell_type": "code",
      "source": [
        "[test_loss, test_acc] = model.evaluate(test_data, test_labels_one_hot)\n",
        "print(\"Evaluation result on Test Data : Loss = {}, accuracy = {}\".format(test_loss, test_acc))\n",
        "\n",
        "history.history.keys()"
      ],
      "metadata": {
        "colab": {
          "base_uri": "https://localhost:8080/"
        },
        "id": "p57UmzVFLmbi",
        "outputId": "9f774e57-9e95-46f0-ec4c-afea0e9033cb"
      },
      "execution_count": 20,
      "outputs": [
        {
          "output_type": "stream",
          "name": "stdout",
          "text": [
            "313/313 [==============================] - 1s 3ms/step - loss: 0.0700 - accuracy: 0.9843\n",
            "Evaluation result on Test Data : Loss = 0.07002456486225128, accuracy = 0.9843000173568726\n"
          ]
        },
        {
          "output_type": "execute_result",
          "data": {
            "text/plain": [
              "dict_keys(['loss', 'accuracy', 'val_loss', 'val_accuracy'])"
            ]
          },
          "metadata": {},
          "execution_count": 20
        }
      ]
    },
    {
      "cell_type": "code",
      "source": [
        "plt.plot(history.history['accuracy'])\n",
        "plt.plot(history.history['val_accuracy'])\n",
        "plt.plot(history.history['loss'])\n",
        "plt.plot(history.history['val_loss'])\n",
        "plt.title('model accuracy')\n",
        "plt.ylabel('accuracy')\n",
        "plt.xlabel('epoch')\n",
        "plt.legend(['accuracy', 'val_accuracy','loss','val_loss'], loc='upper left')\n",
        "plt.show()\n"
      ],
      "metadata": {
        "colab": {
          "base_uri": "https://localhost:8080/",
          "height": 472
        },
        "id": "-HNfwd_-LqFS",
        "outputId": "7e6fc33e-3093-4ee5-dd91-7cea52dd6d2f"
      },
      "execution_count": 21,
      "outputs": [
        {
          "output_type": "display_data",
          "data": {
            "text/plain": [
              "<Figure size 640x480 with 1 Axes>"
            ],
            "image/png": "[encoded data removed]"
          },
          "metadata": {}
        }
      ]
    },
    {
      "cell_type": "markdown",
      "source": [
        "# 2. Plot one of the images in the test data, and then do inferencing to check what is the prediction of the model on that single image."
      ],
      "metadata": {
        "id": "8SpMq9ehLu8D"
      }
    },
    {
      "cell_type": "code",
      "source": [
        "plt.imshow(test_data[0].reshape(28,28))\n",
        "print(\"predicted label:\",model.predict(test_data[0].reshape(1,784)))"
      ],
      "metadata": {
        "colab": {
          "base_uri": "https://localhost:8080/",
          "height": 482
        },
        "id": "zCfAC8uJL0Wx",
        "outputId": "722419c0-8d53-426b-a57d-561046598af5"
      },
      "execution_count": 22,
      "outputs": [
        {
          "output_type": "stream",
          "name": "stdout",
          "text": [
            "1/1 [==============================] - 0s 89ms/step\n",
            "predicted label: [[2.3401392e-10 9.8938224e-10 7.4900597e-10 2.0217070e-07 3.0938539e-14\n",
            "  7.0991699e-11 2.1415860e-15 9.9999964e-01 2.4452041e-11 8.6796035e-08]]\n"
          ]
        },
        {
          "output_type": "display_data",
          "data": {
            "text/plain": [
              "<Figure size 640x480 with 1 Axes>"
            ],
            "image/png": "[encoded data removed]"
          },
          "metadata": {}
        }
      ]
    },
    {
      "cell_type": "markdown",
      "source": [
        "# 3. We had used 2 hidden layers and Relu activation. Try to change the number of hidden layer and the activation to tanh or sigmoid and see what happens."
      ],
      "metadata": {
        "id": "fc1R40YnMXf0"
      }
    },
    {
      "cell_type": "code",
      "source": [
        "#increasing the number of hidden layers to 6\n",
        "model = Sequential()\n",
        "model.add(Dense(512, activation='relu', input_shape=(dimData,)))\n",
        "model.add(Dense(512, activation='relu'))\n",
        "model.add(Dense(512, activation='relu'))\n",
        "model.add(Dense(512, activation='relu'))\n",
        "model.add(Dense(512, activation='relu'))\n",
        "model.add(Dense(512, activation='relu'))\n",
        "model.add(Dense(10, activation='softmax'))\n",
        "\n",
        "model.compile(optimizer='rmsprop', loss='categorical_crossentropy', metrics=['accuracy'])\n",
        "history = model.fit(train_data, train_labels_one_hot, batch_size=256, epochs=10, verbose=1,\n",
        "                   validation_data=(test_data, test_labels_one_hot))\n",
        "\n",
        "[test_loss1, test_acc1] = model.evaluate(test_data, test_labels_one_hot)\n",
        "print(\"Evaluation result on Test Data with 4 hidden layers: Loss = {}, accuracy = {}\".format(test_loss1, test_acc1))\n",
        "\n"
      ],
      "metadata": {
        "colab": {
          "base_uri": "https://localhost:8080/"
        },
        "id": "S38ndXD9MZVJ",
        "outputId": "049eb60a-7c9c-40f9-9e15-0844d6634121"
      },
      "execution_count": 23,
      "outputs": [
        {
          "output_type": "stream",
          "name": "stdout",
          "text": [
            "Epoch 1/10\n",
            "235/235 [==============================] - 23s 95ms/step - loss: 0.4762 - accuracy: 0.8507 - val_loss: 0.2937 - val_accuracy: 0.9272\n",
            "Epoch 2/10\n",
            "235/235 [==============================] - 14s 61ms/step - loss: 0.1324 - accuracy: 0.9618 - val_loss: 0.1465 - val_accuracy: 0.9569\n",
            "Epoch 3/10\n",
            "235/235 [==============================] - 14s 61ms/step - loss: 0.0823 - accuracy: 0.9764 - val_loss: 0.1152 - val_accuracy: 0.9659\n",
            "Epoch 4/10\n",
            "235/235 [==============================] - 14s 61ms/step - loss: 0.0584 - accuracy: 0.9825 - val_loss: 0.0718 - val_accuracy: 0.9797\n",
            "Epoch 5/10\n",
            "235/235 [==============================] - 15s 62ms/step - loss: 0.0429 - accuracy: 0.9873 - val_loss: 0.0964 - val_accuracy: 0.9748\n",
            "Epoch 6/10\n",
            "235/235 [==============================] - 14s 61ms/step - loss: 0.0350 - accuracy: 0.9897 - val_loss: 0.0822 - val_accuracy: 0.9784\n",
            "Epoch 7/10\n",
            "235/235 [==============================] - 14s 61ms/step - loss: 0.0256 - accuracy: 0.9923 - val_loss: 0.0944 - val_accuracy: 0.9793\n",
            "Epoch 8/10\n",
            "235/235 [==============================] - 16s 66ms/step - loss: 0.0207 - accuracy: 0.9937 - val_loss: 0.2725 - val_accuracy: 0.9595\n",
            "Epoch 9/10\n",
            "235/235 [==============================] - 16s 66ms/step - loss: 0.0182 - accuracy: 0.9942 - val_loss: 0.0837 - val_accuracy: 0.9818\n",
            "Epoch 10/10\n",
            "235/235 [==============================] - 14s 62ms/step - loss: 0.0151 - accuracy: 0.9955 - val_loss: 0.0897 - val_accuracy: 0.9787\n",
            "313/313 [==============================] - 2s 5ms/step - loss: 0.0897 - accuracy: 0.9787\n",
            "Evaluation result on Test Data with 4 hidden layers: Loss = 0.08971335738897324, accuracy = 0.9786999821662903\n"
          ]
        }
      ]
    },
    {
      "cell_type": "code",
      "source": [
        "#All hidden layers with tanh activation\n",
        "model = Sequential()\n",
        "model.add(Dense(512, activation='tanh', input_shape=(dimData,)))\n",
        "model.add(Dense(612, activation='tanh'))\n",
        "model.add(Dense(712, activation='tanh'))\n",
        "model.add(Dense(812, activation='tanh'))\n",
        "model.add(Dense(712, activation='tanh'))\n",
        "model.add(Dense(812, activation='tanh'))\n",
        "model.add(Dense(10, activation='softmax'))\n",
        "\n",
        "model.compile(optimizer='rmsprop', loss='categorical_crossentropy', metrics=['accuracy'])\n",
        "history = model.fit(train_data, train_labels_one_hot, batch_size=256, epochs=10, verbose=1,\n",
        "                   validation_data=(test_data, test_labels_one_hot))\n",
        "\n",
        "[test_loss2, test_acc2] = model.evaluate(test_data, test_labels_one_hot)\n",
        "print(\"Evaluation result on Test Data with tanh activation: Loss = {}, accuracy = {}\".format(test_loss2, test_acc2))\n"
      ],
      "metadata": {
        "colab": {
          "base_uri": "https://localhost:8080/"
        },
        "id": "h-OV1vn8MgEL",
        "outputId": "7e9d2cb2-24db-410f-e245-ab12e9528daf"
      },
      "execution_count": 24,
      "outputs": [
        {
          "output_type": "stream",
          "name": "stdout",
          "text": [
            "Epoch 1/10\n",
            "235/235 [==============================] - 25s 105ms/step - loss: 0.8332 - accuracy: 0.8025 - val_loss: 0.3435 - val_accuracy: 0.8983\n",
            "Epoch 2/10\n",
            "235/235 [==============================] - 23s 99ms/step - loss: 0.2332 - accuracy: 0.9323 - val_loss: 0.3295 - val_accuracy: 0.9078\n",
            "Epoch 3/10\n",
            "235/235 [==============================] - 24s 104ms/step - loss: 0.1507 - accuracy: 0.9552 - val_loss: 0.1411 - val_accuracy: 0.9578\n",
            "Epoch 4/10\n",
            "235/235 [==============================] - 25s 105ms/step - loss: 0.1115 - accuracy: 0.9663 - val_loss: 0.2136 - val_accuracy: 0.9440\n",
            "Epoch 5/10\n",
            "235/235 [==============================] - 24s 102ms/step - loss: 0.0887 - accuracy: 0.9729 - val_loss: 0.1989 - val_accuracy: 0.9439\n",
            "Epoch 6/10\n",
            "235/235 [==============================] - 24s 100ms/step - loss: 0.0679 - accuracy: 0.9797 - val_loss: 0.1266 - val_accuracy: 0.9654\n",
            "Epoch 7/10\n",
            "235/235 [==============================] - 25s 106ms/step - loss: 0.0543 - accuracy: 0.9829 - val_loss: 0.1135 - val_accuracy: 0.9713\n",
            "Epoch 8/10\n",
            "235/235 [==============================] - 25s 105ms/step - loss: 0.0418 - accuracy: 0.9866 - val_loss: 0.1223 - val_accuracy: 0.9701\n",
            "Epoch 9/10\n",
            "235/235 [==============================] - 23s 99ms/step - loss: 0.0357 - accuracy: 0.9883 - val_loss: 0.1043 - val_accuracy: 0.9723\n",
            "Epoch 10/10\n",
            "235/235 [==============================] - 25s 105ms/step - loss: 0.0289 - accuracy: 0.9907 - val_loss: 0.2602 - val_accuracy: 0.9457\n",
            "313/313 [==============================] - 2s 8ms/step - loss: 0.2602 - accuracy: 0.9457\n",
            "Evaluation result on Test Data with tanh activation: Loss = 0.26024162769317627, accuracy = 0.9456999897956848\n"
          ]
        }
      ]
    },
    {
      "cell_type": "markdown",
      "source": [
        "# 4. Run the same code without scaling the images and check the performance?"
      ],
      "metadata": {
        "id": "yt-3bdCSMjad"
      }
    },
    {
      "cell_type": "code",
      "source": [
        "from keras import Sequential\n",
        "from keras.datasets import mnist\n",
        "import numpy as np\n",
        "from keras.layers import Dense\n",
        "from keras.utils import to_categorical\n",
        "\n",
        "(train_images,train_labels),(test_images, test_labels) = mnist.load_data()\n",
        "\n",
        "print(train_images.shape[1:])\n",
        "#process the data\n",
        "#1. convert each image of shape 28*28 to 784 dimensional which will be fed to the network as a single feature\n",
        "dimData = np.prod(train_images.shape[1:])\n",
        "# print(dimData)\n",
        "train_data = train_images.reshape(train_images.shape[0],dimData)\n",
        "test_data = test_images.reshape(test_images.shape[0],dimData)\n",
        "\n",
        "#convert data to float and scale values between 0 and 1\n",
        "train_data = train_data.astype('float')\n",
        "test_data = test_data.astype('float')\n",
        "\n",
        "#change the labels frominteger to one-hot encoding. to_categorical is doing the same thing as LabelEncoder()\n",
        "train_labels_one_hot = to_categorical(train_labels)\n",
        "test_labels_one_hot = to_categorical(test_labels)\n",
        "#creating network\n",
        "model = Sequential()\n",
        "model.add(Dense(512, activation='relu', input_shape=(dimData,)))\n",
        "model.add(Dense(512, activation='relu'))\n",
        "model.add(Dense(10, activation='softmax'))\n",
        "\n",
        "model.compile(optimizer='rmsprop', loss='categorical_crossentropy', metrics=['accuracy'])\n",
        "history = model.fit(train_data, train_labels_one_hot, batch_size=256, epochs=10, verbose=1,\n",
        "                   validation_data=(test_data, test_labels_one_hot))\n",
        "\n",
        "[test_loss3, test_acc3] = model.evaluate(test_data, test_labels_one_hot)\n",
        "print(\"Evaluation result on Test Data without scaling: Loss = {}, accuracy = {}\".format(test_loss3, test_acc3))\n",
        "\n"
      ],
      "metadata": {
        "colab": {
          "base_uri": "https://localhost:8080/"
        },
        "id": "0b3WEF8cMmxa",
        "outputId": "58d77523-caf7-4923-84e0-e28216d4da60"
      },
      "execution_count": 25,
      "outputs": [
        {
          "output_type": "stream",
          "name": "stdout",
          "text": [
            "(28, 28)\n",
            "Epoch 1/10\n",
            "235/235 [==============================] - 6s 22ms/step - loss: 6.2279 - accuracy: 0.8752 - val_loss: 0.6782 - val_accuracy: 0.9204\n",
            "Epoch 2/10\n",
            "235/235 [==============================] - 5s 22ms/step - loss: 0.4022 - accuracy: 0.9451 - val_loss: 0.4140 - val_accuracy: 0.9336\n",
            "Epoch 3/10\n",
            "235/235 [==============================] - 6s 27ms/step - loss: 0.2514 - accuracy: 0.9581 - val_loss: 0.5507 - val_accuracy: 0.9318\n",
            "Epoch 4/10\n",
            "235/235 [==============================] - 5s 21ms/step - loss: 0.2048 - accuracy: 0.9674 - val_loss: 0.3233 - val_accuracy: 0.9591\n",
            "Epoch 5/10\n",
            "235/235 [==============================] - 7s 29ms/step - loss: 0.1656 - accuracy: 0.9722 - val_loss: 0.2794 - val_accuracy: 0.9593\n",
            "Epoch 6/10\n",
            "235/235 [==============================] - 5s 21ms/step - loss: 0.1563 - accuracy: 0.9749 - val_loss: 0.3080 - val_accuracy: 0.9640\n",
            "Epoch 7/10\n",
            "235/235 [==============================] - 5s 23ms/step - loss: 0.1397 - accuracy: 0.9789 - val_loss: 0.2975 - val_accuracy: 0.9700\n",
            "Epoch 8/10\n",
            "235/235 [==============================] - 6s 26ms/step - loss: 0.1284 - accuracy: 0.9809 - val_loss: 0.2955 - val_accuracy: 0.9664\n",
            "Epoch 9/10\n",
            "235/235 [==============================] - 5s 21ms/step - loss: 0.1133 - accuracy: 0.9830 - val_loss: 0.3290 - val_accuracy: 0.9688\n",
            "Epoch 10/10\n",
            "235/235 [==============================] - 7s 28ms/step - loss: 0.1208 - accuracy: 0.9845 - val_loss: 0.3756 - val_accuracy: 0.9708\n",
            "313/313 [==============================] - 1s 3ms/step - loss: 0.3756 - accuracy: 0.9708\n",
            "Evaluation result on Test Data without scaling: Loss = 0.37563660740852356, accuracy = 0.97079998254776\n"
          ]
        }
      ]
    }
  ]
}